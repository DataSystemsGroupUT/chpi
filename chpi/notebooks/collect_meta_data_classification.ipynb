{
 "cells": [
  {
   "cell_type": "markdown",
   "metadata": {},
   "source": [
    "### intro\n",
    "In this notebook, we will extract some meta-data regrad to all datasets for classification\n"
   ]
  },
  {
   "cell_type": "code",
   "execution_count": 2,
   "metadata": {},
   "outputs": [],
   "source": [
    "import pandas as pd\n",
    "import numpy as np\n",
    "from os import listdir\n",
    "from os.path import isfile, join\n"
   ]
  },
  {
   "cell_type": "code",
   "execution_count": 34,
   "metadata": {},
   "outputs": [],
   "source": [
    "\n",
    "mypath=\"../datasets\"\n",
    "files = [f for f in listdir(mypath) if isfile(join(mypath, f))]"
   ]
  },
  {
   "cell_type": "code",
   "execution_count": 35,
   "metadata": {},
   "outputs": [
    {
     "data": {
      "text/plain": [
       "100"
      ]
     },
     "execution_count": 35,
     "metadata": {},
     "output_type": "execute_result"
    }
   ],
   "source": [
    "len(files)"
   ]
  },
  {
   "cell_type": "code",
   "execution_count": 36,
   "metadata": {},
   "outputs": [],
   "source": [
    "df=pd.read_csv(\"../datasets/breast-wsconsin_RL.csv\")"
   ]
  },
  {
   "cell_type": "code",
   "execution_count": 37,
   "metadata": {},
   "outputs": [
    {
     "data": {
      "text/plain": [
       "9"
      ]
     },
     "execution_count": 37,
     "metadata": {},
     "output_type": "execute_result"
    }
   ],
   "source": [
    "# count numeric feature\n",
    "len(df.select_dtypes(include=np.number).columns.tolist())"
   ]
  },
  {
   "cell_type": "code",
   "execution_count": 22,
   "metadata": {},
   "outputs": [
    {
     "data": {
      "text/plain": [
       "1"
      ]
     },
     "execution_count": 22,
     "metadata": {},
     "output_type": "execute_result"
    }
   ],
   "source": [
    "# count categorical feature\n",
    "len(df.select_dtypes(exclude=np.number).columns.tolist())"
   ]
  },
  {
   "cell_type": "code",
   "execution_count": 38,
   "metadata": {},
   "outputs": [
    {
     "data": {
      "text/plain": [
       "16"
      ]
     },
     "execution_count": 38,
     "metadata": {},
     "output_type": "execute_result"
    }
   ],
   "source": [
    "# value missing\n",
    "df.isnull().sum().sum()"
   ]
  },
  {
   "cell_type": "code",
   "execution_count": 32,
   "metadata": {},
   "outputs": [
    {
     "data": {
      "text/plain": [
       "'BreastTissue_RL'"
      ]
     },
     "execution_count": 32,
     "metadata": {},
     "output_type": "execute_result"
    }
   ],
   "source": []
  },
  {
   "cell_type": "code",
   "execution_count": 39,
   "metadata": {},
   "outputs": [],
   "source": [
    "rows = []\n",
    "for file in files:\n",
    "     path= \"../datasets/\" + file\n",
    "     df=pd.read_csv(path)\n",
    "     # count numeric feature\n",
    "     count_num_feat = len(df.select_dtypes(include=np.number).columns.tolist())\n",
    "     \n",
    "     count_cat_feat = len(df.select_dtypes(exclude=np.number).columns.tolist())\n",
    "     count_missing = df.isnull().sum().sum()\n",
    "     rows.append([file[:-4], count_num_feat,count_cat_feat, count_missing,  ])"
   ]
  },
  {
   "cell_type": "code",
   "execution_count": 40,
   "metadata": {},
   "outputs": [
    {
     "data": {
      "text/plain": [
       "[['disk_1000n', 3, 0, 0],\n",
       " ['segment_RL', 19, 1, 0],\n",
       " ['arrhythmia_RL', 280, 0, 408],\n",
       " ['dense-disk-3000', 3, 0, 0],\n",
       " ['spherical_4_3', 4, 0, 0],\n",
       " ['dim064', 65, 0, 0],\n",
       " ['vowel_RL', 10, 4, 0],\n",
       " ['sonar_RL', 60, 1, 0],\n",
       " ['cluto-t4-8k', 3, 0, 0],\n",
       " ['yeast_RL', 8, 1, 0],\n",
       " ['engytime', 3, 0, 0],\n",
       " ['dim256', 257, 0, 0],\n",
       " ['hypercube', 4, 0, 0],\n",
       " ['wine_quality_red_RL', 12, 0, 0],\n",
       " ['tae_RL', 6, 0, 0],\n",
       " ['triangle2', 3, 0, 0],\n",
       " ['Spectf_RL', 45, 0, 0],\n",
       " ['dim032', 33, 0, 0],\n",
       " ['pathbased', 3, 0, 0],\n",
       " ['Aggregation', 3, 0, 0],\n",
       " ['s2', 3, 0, 0],\n",
       " ['donutcurves', 3, 0, 0],\n",
       " ['dim128', 129, 0, 0],\n",
       " ['3d-40c-no0', 4, 0, 0],\n",
       " ['disk-6000n', 3, 0, 0],\n",
       " ['donut1', 3, 0, 0],\n",
       " ['thy_RL', 6, 0, 0],\n",
       " ['rings', 3, 0, 0],\n",
       " ['dermatology_RL', 35, 0, 8],\n",
       " ['isolet_RL', 617, 1, 0],\n",
       " ['letter_RL', 16, 1, 0],\n",
       " ['dim512', 513, 0, 0],\n",
       " ['cluto-t7-10k', 3, 0, 0],\n",
       " ['2d-40c-no0', 3, 0, 0],\n",
       " ['jain', 3, 0, 0],\n",
       " ['spherical_6_2', 3, 0, 0],\n",
       " ['fourty', 3, 0, 0],\n",
       " ['hepta', 4, 0, 0],\n",
       " ['atom', 4, 0, 0],\n",
       " ['ionosphere_RL', 34, 1, 0],\n",
       " ['flame', 3, 0, 0],\n",
       " ['circle', 3, 0, 0],\n",
       " ['golfball', 4, 0, 0],\n",
       " ['disk_4600n', 3, 0, 0],\n",
       " ['disk_4000n', 3, 0, 0],\n",
       " ['glass_RL', 9, 1, 0],\n",
       " ['Transfusion_RL', 5, 0, 0],\n",
       " ['dartboard', 3, 0, 0],\n",
       " ['2d-15c-no2', 3, 0, 0],\n",
       " ['curves2', 3, 0, 0],\n",
       " ['dense-disk-5000', 3, 0, 0],\n",
       " ['cluto-t8-8k', 3, 0, 0],\n",
       " ['compound', 3, 0, 0],\n",
       " ['s4', 3, 0, 0],\n",
       " ['breast-wsconsin_RL', 9, 1, 16],\n",
       " ['german_RL', 8, 13, 0],\n",
       " ['2d-10c-no0', 3, 0, 0],\n",
       " ['impossible', 2, 1, 0],\n",
       " ['ecoli_RL', 7, 1, 0],\n",
       " ['lsun', 3, 0, 0],\n",
       " ['3d-20c-no0', 4, 0, 0],\n",
       " ['cuboids', 4, 0, 0],\n",
       " ['blobs', 3, 0, 0],\n",
       " ['zoo_RL', 1, 17, 0],\n",
       " ['2d-12c-no0', 3, 0, 0],\n",
       " ['d31', 3, 0, 0],\n",
       " ['banana', 3, 0, 0],\n",
       " ['s1', 3, 0, 0],\n",
       " ['libras_move_RL', 91, 0, 0],\n",
       " ['tetra', 4, 0, 0],\n",
       " ['cluto-t5-8k', 3, 0, 0],\n",
       " ['donut3', 3, 0, 0],\n",
       " ['haberman_RL', 4, 0, 0],\n",
       " ['Statlog_RL', 37, 0, 0],\n",
       " ['wine_RL', 14, 0, 0],\n",
       " ['balance_scale_RL', 4, 1, 0],\n",
       " ['disk_4500n', 3, 0, 0],\n",
       " ['worms_64d', 65, 0, 0],\n",
       " ['s3', 3, 0, 0],\n",
       " ['elliptical_10_2', 3, 0, 0],\n",
       " ['musk_RL', 167, 2, 0],\n",
       " ['parkinsons_RL', 23, 0, 0],\n",
       " ['3d-10c-no0', 4, 0, 0],\n",
       " ['triangle1', 3, 0, 0],\n",
       " ['2d-25c-no0', 3, 0, 0],\n",
       " ['spiral', 3, 0, 0],\n",
       " ['vertebral_RL', 6, 1, 0],\n",
       " ['3d-25c-no0', 4, 0, 0],\n",
       " ['target', 3, 0, 0],\n",
       " ['spherical_5_2', 3, 0, 0],\n",
       " ['disk_5000n', 3, 0, 0],\n",
       " ['vehicle_RL', 18, 1, 0],\n",
       " ['pendigits_RL', 17, 0, 0],\n",
       " ['donut2', 3, 0, 0],\n",
       " ['2d-20c-no0', 3, 0, 0],\n",
       " ['st900', 3, 0, 0],\n",
       " ['chainlink', 4, 0, 0],\n",
       " ['2d-15c-no0', 3, 0, 0],\n",
       " ['3d-15c-no0', 4, 0, 0],\n",
       " ['BreastTissue_RL', 9, 1, 0]]"
      ]
     },
     "execution_count": 40,
     "metadata": {},
     "output_type": "execute_result"
    }
   ],
   "source": [
    "rows"
   ]
  },
  {
   "cell_type": "code",
   "execution_count": 41,
   "metadata": {},
   "outputs": [],
   "source": [
    "meta_data_df =pd.DataFrame(rows,columns= [\"dataset_name\",\"count_num_feat\",\"count_cat_feat\",\"count_missing\"])"
   ]
  },
  {
   "cell_type": "code",
   "execution_count": 42,
   "metadata": {},
   "outputs": [],
   "source": [
    "meta_data_df.to_csv(\"metadata_clustering_datasets.csv\")"
   ]
  },
  {
   "cell_type": "code",
   "execution_count": null,
   "metadata": {},
   "outputs": [],
   "source": []
  }
 ],
 "metadata": {
  "interpreter": {
   "hash": "6fd604cae7a4fbbccbb168b556d99fb8522a3d080a87c31609add907a93c4484"
  },
  "kernelspec": {
   "display_name": "Python 3.6.13 ('chpi')",
   "language": "python",
   "name": "python3"
  },
  "language_info": {
   "codemirror_mode": {
    "name": "ipython",
    "version": 3
   },
   "file_extension": ".py",
   "mimetype": "text/x-python",
   "name": "python",
   "nbconvert_exporter": "python",
   "pygments_lexer": "ipython3",
   "version": "3.6.13"
  },
  "orig_nbformat": 4
 },
 "nbformat": 4,
 "nbformat_minor": 2
}
