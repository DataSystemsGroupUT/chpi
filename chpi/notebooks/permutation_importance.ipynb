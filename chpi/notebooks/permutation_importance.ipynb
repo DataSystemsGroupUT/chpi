{
 "cells": [
  {
   "cell_type": "code",
   "execution_count": 85,
   "metadata": {},
   "outputs": [
    {
     "name": "stdout",
     "output_type": "stream",
     "text": [
      "3.6.13 |Anaconda, Inc.| (default, Feb 23 2021, 21:15:04) \n",
      "[GCC 7.3.0]\n",
      "1.1.5\n"
     ]
    }
   ],
   "source": [
    "import numpy as np\n",
    "import os\n",
    "import pandas as pd\n",
    "import sys\n",
    "from sklearn.base import BaseEstimator, TransformerMixin\n",
    "from sklearn.compose import make_column_selector as selector\n",
    "from sklearn.impute import SimpleImputer\n",
    "from sklearn.pipeline import  Pipeline \n",
    "from sklearn.preprocessing import StandardScaler\n",
    "from sklearn.inspection import permutation_importance\n",
    "from sklearn.metrics import mean_squared_error\n",
    "from sklearn.ensemble import RandomForestRegressor\n",
    "from sklearn.model_selection import train_test_split\n",
    "import category_encoders as ce\n",
    "import matplotlib.pyplot as plt\n",
    "print(sys.version)\n",
    "print(pd.__version__)"
   ]
  },
  {
   "cell_type": "code",
   "execution_count": 96,
   "metadata": {},
   "outputs": [],
   "source": [
    "agglo_hpis = ['n_clusters','affinity','linkage','compute_full_tree','imputation']\n",
    "dbscan_hpis = ['eps','min_samples','metric','algorithm','leaf_size','imputation']\n",
    "kmeans_hpis = ['n_clusters','init','max_iter','algorithm','n_init','tol']\n",
    "meanshift_hpis = ['bin_seeding','cluster_all','max_iter','bandwidth','imputation']\n",
    "optics_hpis = ['max_eps','eps','min_samples','cluster_method','xi','metric','algorithm','leaf_size','imputation']\n",
    "spectralclustering_hpis = ['n_clusters','n_init','affinity','n_neighbors','assign_labels','imputation']"
   ]
  },
  {
   "cell_type": "code",
   "execution_count": 97,
   "metadata": {},
   "outputs": [],
   "source": [
    "def read_dataset(model,hpis):\n",
    "    path = \"../performance_data/\"+model+\"_results.csv\"\n",
    "    df = pd.read_csv(path)\n",
    "    X = df[hpis]\n",
    "    y = df[\"silhouette_score\"]\n",
    "    return X, y"
   ]
  },
  {
   "cell_type": "code",
   "execution_count": 98,
   "metadata": {},
   "outputs": [],
   "source": [
    "ml_model=\"spectralclustering\"\n",
    "ml_model_hpis = spectralclustering_hpis\n",
    "X, y = read_dataset(ml_model,ml_model_hpis)\n",
    "X_train, X_test, y_train, y_test = train_test_split(\n",
    "    X, \n",
    "    y, \n",
    "    test_size=0.2, random_state=42,\n",
    ")"
   ]
  },
  {
   "cell_type": "code",
   "execution_count": 99,
   "metadata": {},
   "outputs": [],
   "source": [
    "numerical_columns_selector = selector(dtype_exclude=object)\n",
    "categorical_columns_selector = selector(dtype_include=object)\n",
    "numerical_columns = numerical_columns_selector(X)\n",
    "categorical_columns = categorical_columns_selector(X)"
   ]
  },
  {
   "cell_type": "code",
   "execution_count": 100,
   "metadata": {},
   "outputs": [],
   "source": [
    "class FeatureSelector(BaseEstimator, TransformerMixin):\n",
    "    def __init__(self, feature_names):\n",
    "        self.feature_names = feature_names   \n",
    "    def fit(self, X, y = None):\n",
    "        return self\n",
    "    def transform(self, X, y=None):\n",
    "        return X[self.feature_names] "
   ]
  },
  {
   "cell_type": "code",
   "execution_count": 101,
   "metadata": {},
   "outputs": [],
   "source": [
    "numeric_transformer = Pipeline(\n",
    "    steps=[\n",
    "    (\"impute_median\", SimpleImputer(strategy=\"median\")),\n",
    "    (\"std_scaler\", StandardScaler())\n",
    "                               ])\n",
    "categorical_transformer = ce.OrdinalEncoder(handle_unknown=\"ignore\")"
   ]
  },
  {
   "cell_type": "code",
   "execution_count": 102,
   "metadata": {},
   "outputs": [],
   "source": [
    "from sklearn.compose import ColumnTransformer\n",
    "\n",
    "preprocessor = ColumnTransformer([\n",
    "    ('cat_encoder', categorical_transformer, categorical_columns),\n",
    "    ('num_encoder', numeric_transformer, numerical_columns)])"
   ]
  },
  {
   "cell_type": "code",
   "execution_count": 103,
   "metadata": {},
   "outputs": [],
   "source": [
    "X_train_transformed = preprocessor.fit_transform(X_train)\n",
    "X_test_transformed = preprocessor.transform(X_test)\n",
    "feat_name =  categorical_columns + numerical_columns"
   ]
  },
  {
   "cell_type": "code",
   "execution_count": 104,
   "metadata": {},
   "outputs": [
    {
     "name": "stdout",
     "output_type": "stream",
     "text": [
      "The mean squared error (MSE) on test set: 0.0281\n"
     ]
    }
   ],
   "source": [
    "reg = RandomForestRegressor(random_state=1,n_jobs=-1)\n",
    "reg.fit(X_train_transformed, y_train)\n",
    "\n",
    "mse = mean_squared_error(y_test, reg.predict(X_test_transformed))\n",
    "print(\"The mean squared error (MSE) on test set: {:.4f}\".format(mse))"
   ]
  },
  {
   "cell_type": "code",
   "execution_count": 105,
   "metadata": {},
   "outputs": [
    {
     "data": {
      "image/png": "[encoded data removed]",
      "text/plain": [
       "<Figure size 864x432 with 1 Axes>"
      ]
     },
     "metadata": {
      "needs_background": "light"
     },
     "output_type": "display_data"
    }
   ],
   "source": [
    "fig = plt.figure(figsize=(12, 6))\n",
    "\n",
    "result = permutation_importance(reg, X_test_transformed, y_test, n_repeats=10, random_state=42, n_jobs=-1,)\n",
    "sorted_idx = result.importances_mean.argsort()\n",
    "plt.boxplot(\n",
    "    result.importances[sorted_idx].T,\n",
    "    vert=False,\n",
    "    labels=np.array(feat_name)[sorted_idx],\n",
    ")\n",
    "plt.title(\"Permutation Importance (test set) \")\n",
    "fig.tight_layout()\n",
    "plt.savefig(f'../output_plots/permutation_importance/{ml_model}_importance.pdf')  \n",
    "plt.show()"
   ]
  }
 ],
 "metadata": {
  "interpreter": {
   "hash": "6fd604cae7a4fbbccbb168b556d99fb8522a3d080a87c31609add907a93c4484"
  },
  "kernelspec": {
   "display_name": "Python 3.6.13 ('chpi')",
   "language": "python",
   "name": "python3"
  },
  "language_info": {
   "codemirror_mode": {
    "name": "ipython",
    "version": 3
   },
   "file_extension": ".py",
   "mimetype": "text/x-python",
   "name": "python",
   "nbconvert_exporter": "python",
   "pygments_lexer": "ipython3",
   "version": "3.6.13"
  },
  "orig_nbformat": 4
 },
 "nbformat": 4,
 "nbformat_minor": 2
}
