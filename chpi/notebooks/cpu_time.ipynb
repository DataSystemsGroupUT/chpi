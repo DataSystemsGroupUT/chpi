{
 "cells": [
  {
   "cell_type": "code",
   "execution_count": 1,
   "metadata": {},
   "outputs": [],
   "source": [
    "import numpy as np \n",
    "import pandas as pd"
   ]
  },
  {
   "cell_type": "code",
   "execution_count": 9,
   "metadata": {},
   "outputs": [],
   "source": [
    "all_algorithm_train_time = []\n",
    "for algorithm in (\"agglomerativeclustering\", \"dbscan\", \"optics\", \"kmeans\", \"meanshift\", \"spectralclustering\"):\n",
    "    df= pd.read_csv(f\"../performance_data/{algorithm}_results.csv\")\n",
    "    train_time_sum = df[\"Train_time\"].sum()\n",
    "    all_algorithm_train_time.append(train_time_sum)"
   ]
  },
  {
   "cell_type": "code",
   "execution_count": 12,
   "metadata": {},
   "outputs": [
    {
     "data": {
      "text/plain": [
       "3397.0346112779457"
      ]
     },
     "execution_count": 12,
     "metadata": {},
     "output_type": "execute_result"
    }
   ],
   "source": [
    "# training time per minute \n",
    "sum(all_algorithm_train_time)/60"
   ]
  }
 ],
 "metadata": {
  "kernelspec": {
   "display_name": "Python 3.6.13 ('chpi_env')",
   "language": "python",
   "name": "python3"
  },
  "language_info": {
   "codemirror_mode": {
    "name": "ipython",
    "version": 3
   },
   "file_extension": ".py",
   "mimetype": "text/x-python",
   "name": "python",
   "nbconvert_exporter": "python",
   "pygments_lexer": "ipython3",
   "version": "3.6.13"
  },
  "orig_nbformat": 4,
  "vscode": {
   "interpreter": {
    "hash": "a886bc5a7aa346be456a5958227869e98a6eb58315e7094055c33ee7bedf30a7"
   }
  }
 },
 "nbformat": 4,
 "nbformat_minor": 2
}
